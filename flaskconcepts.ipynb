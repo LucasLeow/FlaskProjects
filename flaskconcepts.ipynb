{
 "cells": [
  {
   "cell_type": "markdown",
   "metadata": {},
   "source": [
    "##### Adding URL routes\n",
    "* @app.route(\"/\")\n",
    "* @app.route(\"/home\")\n",
    "* @app.route(\"/about\")\n",
    "\n",
    "\n",
    "##### 2 HTML Templates\n",
    "* To prevent clogs of html code specified for every route\n",
    "* Usually stored in templates directory, created in project\n",
    "* Need to import render_template method from flask\n",
    "* Utilize in desired flask route\n",
    "* template engine that flask use is jinja2\n",
    "    * To write code in html templates, can use {% write code here%} <- code block symbol\n",
    "    * To use variable : {{post.title}} <- can use dot notation to access information\n",
    "\n",
    "\n",
    "##### Template Inheritance\n",
    "* When code is reused between multiple templates. Then best to store common code at centralized area\n",
    "* create new template : layout.html in templates directory\n",
    "##### Bootstrap website\n",
    "* Popular library that enables nice styles to website\n",
    "* go to documentation and copy the necesary meta & scripts to layout.html\n",
    "\n",
    "\n",
    "##### Static files in flask\n",
    "* Static files like css and JS must be located in static directory, usually called static.\n",
    "* Need to use url_for function in flask to find the exact location to use css\n",
    " \n",
    "\n",
    "```\n",
    "@app.route('/home')\n",
    "def home():\n",
    "    return render_template('desiredTemplate.html')\n",
    "    ```"
   ]
  },
  {
   "cell_type": "markdown",
   "metadata": {},
   "source": [
    "### Forms & inputs\n",
    "* Need to consider many things like user entering valid email etc.\n",
    "* There is extension for forms in flask known as wtforms\n",
    "* pip install flask-wtf\n",
    "* create forms.py (can write in main py file but best to separate form.py file for easier upkeeping)"
   ]
  },
  {
   "cell_type": "markdown",
   "metadata": {},
   "source": []
  }
 ],
 "metadata": {
  "kernelspec": {
   "display_name": "Python 3.10.5 64-bit",
   "language": "python",
   "name": "python3"
  },
  "language_info": {
   "name": "python",
   "version": "3.10.5"
  },
  "orig_nbformat": 4,
  "vscode": {
   "interpreter": {
    "hash": "31c0d9e52a0062bfd16013482e06f69feb139e91f5153517cdee37527c70dad2"
   }
  }
 },
 "nbformat": 4,
 "nbformat_minor": 2
}
